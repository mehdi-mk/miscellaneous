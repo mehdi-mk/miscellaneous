{
 "cells": [
  {
   "cell_type": "markdown",
   "id": "a139ad34",
   "metadata": {},
   "source": [
    "# Discrete Data Summarization - 1"
   ]
  },
  {
   "cell_type": "markdown",
   "id": "bfa1eaa6",
   "metadata": {},
   "source": [
    "## The output of this simple script is shown below. It is also written into an output file named \"E2_Q1.csv\"."
   ]
  },
  {
   "cell_type": "code",
   "execution_count": 1,
   "id": "f5fec945",
   "metadata": {},
   "outputs": [],
   "source": [
    "import pandas as pd"
   ]
  },
  {
   "cell_type": "code",
   "execution_count": 2,
   "id": "2a04cfe4",
   "metadata": {},
   "outputs": [
    {
     "name": "stdout",
     "output_type": "stream",
     "text": [
      "<class 'pandas.core.frame.DataFrame'>\n",
      "RangeIndex: 6159 entries, 0 to 6158\n",
      "Data columns (total 5 columns):\n",
      " #   Column  Non-Null Count  Dtype  \n",
      "---  ------  --------------  -----  \n",
      " 0   date    6159 non-null   object \n",
      " 1   exer    6159 non-null   object \n",
      " 2   weight  6159 non-null   float64\n",
      " 3   reps    6159 non-null   int64  \n",
      " 4   sets    6159 non-null   int64  \n",
      "dtypes: float64(1), int64(2), object(2)\n",
      "memory usage: 240.7+ KB\n"
     ]
    }
   ],
   "source": [
    "df = pd.read_csv('workouts.csv')\n",
    "df.info()"
   ]
  },
  {
   "cell_type": "code",
   "execution_count": 3,
   "id": "b4b5b874",
   "metadata": {},
   "outputs": [
    {
     "data": {
      "text/plain": [
       "<pandas.core.groupby.generic.DataFrameGroupBy object at 0x7f98806ed4c0>"
      ]
     },
     "execution_count": 3,
     "metadata": {},
     "output_type": "execute_result"
    }
   ],
   "source": [
    "groups = df.groupby(['date', 'exer'], sort = False)\n",
    "groups"
   ]
  },
  {
   "cell_type": "code",
   "execution_count": 4,
   "id": "825d2e37",
   "metadata": {},
   "outputs": [
    {
     "data": {
      "text/html": [
       "<div>\n",
       "<style scoped>\n",
       "    .dataframe tbody tr th:only-of-type {\n",
       "        vertical-align: middle;\n",
       "    }\n",
       "\n",
       "    .dataframe tbody tr th {\n",
       "        vertical-align: top;\n",
       "    }\n",
       "\n",
       "    .dataframe thead th {\n",
       "        text-align: right;\n",
       "    }\n",
       "</style>\n",
       "<table border=\"1\" class=\"dataframe\">\n",
       "  <thead>\n",
       "    <tr style=\"text-align: right;\">\n",
       "      <th></th>\n",
       "      <th>date</th>\n",
       "      <th>exer</th>\n",
       "      <th>weight</th>\n",
       "      <th>reps</th>\n",
       "      <th>sets</th>\n",
       "    </tr>\n",
       "  </thead>\n",
       "  <tbody>\n",
       "    <tr>\n",
       "      <th>4</th>\n",
       "      <td>12/31/2016</td>\n",
       "      <td>SQ</td>\n",
       "      <td>100.0</td>\n",
       "      <td>5</td>\n",
       "      <td>1</td>\n",
       "    </tr>\n",
       "    <tr>\n",
       "      <th>8</th>\n",
       "      <td>12/31/2016</td>\n",
       "      <td>DL</td>\n",
       "      <td>135.0</td>\n",
       "      <td>5</td>\n",
       "      <td>2</td>\n",
       "    </tr>\n",
       "    <tr>\n",
       "      <th>12</th>\n",
       "      <td>12/31/2016</td>\n",
       "      <td>PRESS</td>\n",
       "      <td>75.0</td>\n",
       "      <td>5</td>\n",
       "      <td>2</td>\n",
       "    </tr>\n",
       "    <tr>\n",
       "      <th>17</th>\n",
       "      <td>1/3/2017</td>\n",
       "      <td>SQ</td>\n",
       "      <td>110.0</td>\n",
       "      <td>5</td>\n",
       "      <td>1</td>\n",
       "    </tr>\n",
       "    <tr>\n",
       "      <th>20</th>\n",
       "      <td>1/3/2017</td>\n",
       "      <td>PRESS</td>\n",
       "      <td>75.0</td>\n",
       "      <td>5</td>\n",
       "      <td>2</td>\n",
       "    </tr>\n",
       "    <tr>\n",
       "      <th>...</th>\n",
       "      <td>...</td>\n",
       "      <td>...</td>\n",
       "      <td>...</td>\n",
       "      <td>...</td>\n",
       "      <td>...</td>\n",
       "    </tr>\n",
       "    <tr>\n",
       "      <th>6147</th>\n",
       "      <td>9/22/2022</td>\n",
       "      <td>BP</td>\n",
       "      <td>180.0</td>\n",
       "      <td>10</td>\n",
       "      <td>5</td>\n",
       "    </tr>\n",
       "    <tr>\n",
       "      <th>6149</th>\n",
       "      <td>9/22/2022</td>\n",
       "      <td>LTE</td>\n",
       "      <td>90.0</td>\n",
       "      <td>10</td>\n",
       "      <td>5</td>\n",
       "    </tr>\n",
       "    <tr>\n",
       "      <th>6156</th>\n",
       "      <td>9/25/2022</td>\n",
       "      <td>DL</td>\n",
       "      <td>500.0</td>\n",
       "      <td>5</td>\n",
       "      <td>1</td>\n",
       "    </tr>\n",
       "    <tr>\n",
       "      <th>6157</th>\n",
       "      <td>9/25/2022</td>\n",
       "      <td>DL</td>\n",
       "      <td>500.0</td>\n",
       "      <td>2</td>\n",
       "      <td>1</td>\n",
       "    </tr>\n",
       "    <tr>\n",
       "      <th>6158</th>\n",
       "      <td>9/25/2022</td>\n",
       "      <td>DL</td>\n",
       "      <td>500.0</td>\n",
       "      <td>3</td>\n",
       "      <td>1</td>\n",
       "    </tr>\n",
       "  </tbody>\n",
       "</table>\n",
       "<p>1782 rows × 5 columns</p>\n",
       "</div>"
      ],
      "text/plain": [
       "            date   exer  weight  reps  sets\n",
       "4     12/31/2016     SQ   100.0     5     1\n",
       "8     12/31/2016     DL   135.0     5     2\n",
       "12    12/31/2016  PRESS    75.0     5     2\n",
       "17      1/3/2017     SQ   110.0     5     1\n",
       "20      1/3/2017  PRESS    75.0     5     2\n",
       "...          ...    ...     ...   ...   ...\n",
       "6147   9/22/2022     BP   180.0    10     5\n",
       "6149   9/22/2022    LTE    90.0    10     5\n",
       "6156   9/25/2022     DL   500.0     5     1\n",
       "6157   9/25/2022     DL   500.0     2     1\n",
       "6158   9/25/2022     DL   500.0     3     1\n",
       "\n",
       "[1782 rows x 5 columns]"
      ]
     },
     "execution_count": 4,
     "metadata": {},
     "output_type": "execute_result"
    }
   ],
   "source": [
    "final_df = pd.DataFrame()\n",
    "\n",
    "for date, group_df in groups:\n",
    "    curr_date = group_df['date'].max()\n",
    "    curr_exer = group_df['exer'].max()\n",
    "    curr_weight = group_df['weight'].max()\n",
    "    tmp_df = df.loc[(df['date'] == curr_date) & (df['exer'] == curr_exer) & (df['weight'] == curr_weight)]\n",
    "    final_df = pd.concat([final_df, tmp_df])\n",
    "\n",
    "final_df"
   ]
  },
  {
   "cell_type": "code",
   "execution_count": 5,
   "id": "c78304c1",
   "metadata": {},
   "outputs": [],
   "source": [
    "final_df.to_csv('E2_Q1.csv', index=False)"
   ]
  },
  {
   "cell_type": "code",
   "execution_count": null,
   "id": "d6135671",
   "metadata": {},
   "outputs": [],
   "source": []
  }
 ],
 "metadata": {
  "kernelspec": {
   "display_name": "Python 3 (ipykernel)",
   "language": "python",
   "name": "python3"
  },
  "language_info": {
   "codemirror_mode": {
    "name": "ipython",
    "version": 3
   },
   "file_extension": ".py",
   "mimetype": "text/x-python",
   "name": "python",
   "nbconvert_exporter": "python",
   "pygments_lexer": "ipython3",
   "version": "3.9.7"
  }
 },
 "nbformat": 4,
 "nbformat_minor": 5
}
