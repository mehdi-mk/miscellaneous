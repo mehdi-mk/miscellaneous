{
 "cells": [
  {
   "cell_type": "markdown",
   "id": "58d042b7",
   "metadata": {},
   "source": [
    "### Answer to Q1:"
   ]
  },
  {
   "cell_type": "markdown",
   "id": "31c13c10",
   "metadata": {},
   "source": [
    "Without source code control it is extremely difficult to collaborate in a project within a development team. It is the best and easiest way to keep track of everyone's codes, create separations in developers' works, and revert changes if necessary. It also provides a unified management system for all codes from all team members. However, its use is not limited to team work. Even in personal projects, source code control is useful to manage the project, keep track of changes, revert them when necessary."
   ]
  },
  {
   "cell_type": "markdown",
   "id": "7e5720af",
   "metadata": {},
   "source": [
    "### Answer to Q2:"
   ]
  },
  {
   "cell_type": "markdown",
   "id": "6afe1db0",
   "metadata": {},
   "source": [
    "Branching in Git is very useful when, for example, we want to add a new feature to the main (previous) version or fix some bugs in the codes. It is the best way to keep track of the project's versions. When we create a new branch from the project, we can make as many changes in the code as we want. Therefore, it is possible to keep the main branch intact, while having other branches for different tests."
   ]
  },
  {
   "cell_type": "markdown",
   "id": "ea822038",
   "metadata": {},
   "source": [
    "### Answer to Q3:"
   ]
  },
  {
   "cell_type": "markdown",
   "id": "35519757",
   "metadata": {},
   "source": [
    "Git commit saves the added changes to the local repository. In fact, it applies the updates from the staging area to the repository. Then, these committed changes (or updates) can be made (pushed) to the remote (cloud) repository using Git push."
   ]
  },
  {
   "cell_type": "markdown",
   "id": "87adf868",
   "metadata": {},
   "source": [
    "### Answer to Q4:"
   ]
  },
  {
   "cell_type": "markdown",
   "id": "8aa82e16",
   "metadata": {},
   "source": [
    "I personally try to use Git commit as much as possible. I like to use it often, but not too often. The way I think about it is to identify the checkpoints in writing code or making updates. For example if I write a small function, I make a commit at the end before doing anything else, so I can go back to the code before that function. But I do not commit in the middle of writing that small function, since it does not make any sense and creates too many checkpoints. However, if the function is something big with multiple sections, I may commit a few times when I am writing the function."
   ]
  },
  {
   "cell_type": "code",
   "execution_count": null,
   "id": "a8b5d6cc",
   "metadata": {},
   "outputs": [],
   "source": []
  }
 ],
 "metadata": {
  "kernelspec": {
   "display_name": "Python 3 (ipykernel)",
   "language": "python",
   "name": "python3"
  },
  "language_info": {
   "codemirror_mode": {
    "name": "ipython",
    "version": 3
   },
   "file_extension": ".py",
   "mimetype": "text/x-python",
   "name": "python",
   "nbconvert_exporter": "python",
   "pygments_lexer": "ipython3",
   "version": "3.9.7"
  }
 },
 "nbformat": 4,
 "nbformat_minor": 5
}
